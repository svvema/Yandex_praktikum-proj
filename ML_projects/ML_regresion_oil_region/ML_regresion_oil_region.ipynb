{
 "cells": [
  {
   "cell_type": "markdown",
   "metadata": {},
   "source": [
    "# Выбор региона нефтедобычи"
   ]
  },
  {
   "cell_type": "markdown",
   "metadata": {},
   "source": [
    "Для нефтедобывающей компании нужно решить, где бурить новую скважину.\n",
    "Есть пробы нефти в трёх регионах: в каждом 10 000 месторождений, где измерили качество нефти и объём её запасов. Необходимо построить модель машинного обучения, которая поможет определить регион, где добыча принесёт наибольшую прибыль. \n",
    "Также необходимо проанализировать возможную прибыль и риски техникой *Bootstrap.*\n",
    "\n",
    "\n",
    "##### [1. Загрузка и подготовка данных](#Part_1)\n",
    "\n",
    "##### [2. Обучение и проверка модели](#Part_2)\n",
    "\n",
    "##### [3. Подготовка к расчёту прибыли](#Part_3)\n",
    "\n",
    "##### [4. Расчёт прибыли и рисков ](#Part_4)"
   ]
  },
  {
   "cell_type": "markdown",
   "metadata": {},
   "source": [
    "<a id='Part_1'></a>\n",
    "# 1. Загрузка и подготовка данных"
   ]
  },
  {
   "cell_type": "code",
   "execution_count": 1,
   "metadata": {},
   "outputs": [],
   "source": [
    "import pandas as pd\n",
    "import matplotlib.pyplot as plt\n",
    "import numpy as np\n",
    "from sklearn.linear_model import LinearRegression\n",
    "from sklearn.model_selection import train_test_split\n",
    "from sklearn.metrics import mean_squared_error\n",
    "from sklearn.metrics import mean_absolute_error\n"
   ]
  },
  {
   "cell_type": "code",
   "execution_count": 2,
   "metadata": {},
   "outputs": [],
   "source": [
    "df_0 = pd.read_csv('/datasets/geo_data_0.csv')\n",
    "df_1 = pd.read_csv('/datasets/geo_data_1.csv')\n",
    "df_2 = pd.read_csv('/datasets/geo_data_2.csv')"
   ]
  },
  {
   "cell_type": "code",
   "execution_count": 3,
   "metadata": {
    "scrolled": true
   },
   "outputs": [
    {
     "name": "stdout",
     "output_type": "stream",
     "text": [
      "      id        f0        f1        f2     product\n",
      "0  txEyH  0.705745 -0.497823  1.221170  105.280062\n",
      "1  2acmU  1.334711 -0.340164  4.365080   73.037750\n",
      "2  409Wp  1.022732  0.151990  1.419926   85.265647\n",
      "3  iJLyR -0.032172  0.139033  2.978566  168.620776\n",
      "4  Xdl7t  1.988431  0.155413  4.751769  154.036647 \n",
      "\n",
      "       id         f0         f1        f2     product\n",
      "0  kBEdx -15.001348  -8.276000 -0.005876    3.179103\n",
      "1  62mP7  14.272088  -3.475083  0.999183   26.953261\n",
      "2  vyE1P   6.263187  -5.948386  5.001160  134.766305\n",
      "3  KcrkZ -13.081196 -11.506057  4.999415  137.945408\n",
      "4  AHL4O  12.702195  -8.147433  5.004363  134.766305 \n",
      "\n",
      "       id        f0        f1        f2     product\n",
      "0  fwXo0 -1.146987  0.963328 -0.828965   27.758673\n",
      "1  WJtFt  0.262778  0.269839 -2.530187   56.069697\n",
      "2  ovLUW  0.194587  0.289035 -5.586433   62.871910\n",
      "3  q6cA6  2.236060 -0.553760  0.930038  114.572842\n",
      "4  WPMUX -0.515993  1.716266  5.899011  149.600746\n"
     ]
    }
   ],
   "source": [
    "print(df_0.head(),'\\n\\n',df_1.head(),'\\n\\n',df_2.head())"
   ]
  },
  {
   "cell_type": "code",
   "execution_count": 4,
   "metadata": {
    "scrolled": false
   },
   "outputs": [
    {
     "name": "stdout",
     "output_type": "stream",
     "text": [
      "<class 'pandas.core.frame.DataFrame'>\n",
      "RangeIndex: 100000 entries, 0 to 99999\n",
      "Data columns (total 5 columns):\n",
      "id         100000 non-null object\n",
      "f0         100000 non-null float64\n",
      "f1         100000 non-null float64\n",
      "f2         100000 non-null float64\n",
      "product    100000 non-null float64\n",
      "dtypes: float64(4), object(1)\n",
      "memory usage: 3.8+ MB\n",
      "\n",
      "<class 'pandas.core.frame.DataFrame'>\n",
      "RangeIndex: 100000 entries, 0 to 99999\n",
      "Data columns (total 5 columns):\n",
      "id         100000 non-null object\n",
      "f0         100000 non-null float64\n",
      "f1         100000 non-null float64\n",
      "f2         100000 non-null float64\n",
      "product    100000 non-null float64\n",
      "dtypes: float64(4), object(1)\n",
      "memory usage: 3.8+ MB\n",
      "\n",
      "<class 'pandas.core.frame.DataFrame'>\n",
      "RangeIndex: 100000 entries, 0 to 99999\n",
      "Data columns (total 5 columns):\n",
      "id         100000 non-null object\n",
      "f0         100000 non-null float64\n",
      "f1         100000 non-null float64\n",
      "f2         100000 non-null float64\n",
      "product    100000 non-null float64\n",
      "dtypes: float64(4), object(1)\n",
      "memory usage: 3.8+ MB\n"
     ]
    }
   ],
   "source": [
    "df_0.info()\n",
    "print()\n",
    "df_1.info()\n",
    "print()\n",
    "df_2.info()"
   ]
  },
  {
   "cell_type": "markdown",
   "metadata": {},
   "source": [
    "Все три датасета имеют по 100000 строк. Проверим стобцы f0, f1 и f2 на выбросы."
   ]
  },
  {
   "cell_type": "code",
   "execution_count": 5,
   "metadata": {},
   "outputs": [],
   "source": [
    "def boxplot(df, title):\n",
    "    fig, axs = plt.subplots(1, 3, figsize=(9, 3))\n",
    "    fig.suptitle(title, fontsize=18, y=1.05)\n",
    "    axs[0].boxplot(df['f0'])\n",
    "    axs[0].set_title('f0')\n",
    "    axs[1].boxplot(df['f1'])\n",
    "    axs[1].set_title('f1')\n",
    "    axs[2].boxplot(df['f2'])\n",
    "    axs[2].set_title('f2')"
   ]
  },
  {
   "cell_type": "code",
   "execution_count": 6,
   "metadata": {
    "scrolled": false
   },
   "outputs": [
    {
     "data": {
      "image/png": "[encoded data removed]",
      "text/plain": [
       "<Figure size 648x216 with 3 Axes>"
      ]
     },
     "metadata": {
      "needs_background": "light"
     },
     "output_type": "display_data"
    },
    {
     "data": {
      "image/png": "[encoded data removed]",
      "text/plain": [
       "<Figure size 648x216 with 3 Axes>"
      ]
     },
     "metadata": {
      "needs_background": "light"
     },
     "output_type": "display_data"
    },
    {
     "data": {
      "image/png": "[encoded data removed]",
      "text/plain": [
       "<Figure size 648x216 with 3 Axes>"
      ]
     },
     "metadata": {
      "needs_background": "light"
     },
     "output_type": "display_data"
    }
   ],
   "source": [
    "boxplot(df_0, 'Первый регион')\n",
    "boxplot(df_1, 'Второй регион')\n",
    "boxplot(df_2, 'Третий регион')"
   ]
  },
  {
   "cell_type": "markdown",
   "metadata": {},
   "source": [
    "Видим что во всех датасетах есть выбросы, но они не аномально большие, оценим их количественно."
   ]
  },
  {
   "cell_type": "code",
   "execution_count": 7,
   "metadata": {},
   "outputs": [],
   "source": [
    "def outliers(df, t, title):\n",
    "    Q1 = df[t].quantile(0.25)\n",
    "    Q3 = df[t].quantile(0.75) \n",
    "    IQR = Q3 - Q1\n",
    "    up_lim = Q3 + IQR * 1.5\n",
    "    low_lim = Q1 - IQR * 1.5\n",
    "    out = df[t].loc[(df[t] < low_lim )| (df[t] > up_lim)].shape[0] / df[t].shape[0] * 100\n",
    "    print('Выбросов в', title,':', out,'%')"
   ]
  },
  {
   "cell_type": "code",
   "execution_count": 8,
   "metadata": {
    "scrolled": true
   },
   "outputs": [
    {
     "name": "stdout",
     "output_type": "stream",
     "text": [
      "Выбросов в первом регионе по f2 : 0.506 %\n",
      "Выбросов в втором регионе по f1 : 0.636 %\n",
      "Выбросов в третьем регионе по f0 : 0.733 %\n",
      "Выбросов в третьем регионе по f1 : 0.6839999999999999 %\n",
      "Выбросов в третьем регионе по f2 : 0.584 %\n"
     ]
    }
   ],
   "source": [
    "outliers(df_0, 'f2', 'первом регионе по f2')\n",
    "outliers(df_1, 'f1', 'втором регионе по f1')\n",
    "outliers(df_2, 'f0', 'третьем регионе по f0')\n",
    "outliers(df_2, 'f1', 'третьем регионе по f1')\n",
    "outliers(df_2, 'f2', 'третьем регионе по f2')"
   ]
  },
  {
   "cell_type": "markdown",
   "metadata": {},
   "source": [
    "Все выбросы не превышают 1% от всех данных, а значит они не окажут серьезного влияния на обучение нашей модели.\n",
    "\n",
    "Удалим из датасетов стобец id, он нам не нужен."
   ]
  },
  {
   "cell_type": "code",
   "execution_count": 9,
   "metadata": {},
   "outputs": [],
   "source": [
    "df_0 = df_0.drop(['id'], axis=1)\n",
    "df_1 = df_1.drop(['id'], axis=1)\n",
    "df_2 = df_2.drop(['id'], axis=1)"
   ]
  },
  {
   "cell_type": "markdown",
   "metadata": {},
   "source": [
    "<a id='Part_2'></a>\n",
    "# 2. Обучение и проверка модели\n",
    "Выделим в датасетах целевой признак, далее напишем функцию которая будет разделять входящий датасет на обучающую и валидационную выборку в сотношении 75:25, обучать модель линейной регрессии по обучающей выборке и производить предсказания по валидационной, считать среднеквадратичную ошибку и среднее, а также сохранять полученные предсказания и целевую выборку в соответствующие переменные."
   ]
  },
  {
   "cell_type": "code",
   "execution_count": 10,
   "metadata": {},
   "outputs": [],
   "source": [
    "r_state = 123456"
   ]
  },
  {
   "cell_type": "code",
   "execution_count": 11,
   "metadata": {},
   "outputs": [],
   "source": [
    "df_0_target = df_0['product']\n",
    "df_0_features = df_0.drop('product', axis=1)\n",
    "df_1_target = df_1['product']\n",
    "df_1_features = df_1.drop('product', axis=1)\n",
    "df_2_target = df_2['product']\n",
    "df_2_features = df_2.drop('product', axis=1)"
   ]
  },
  {
   "cell_type": "code",
   "execution_count": 12,
   "metadata": {},
   "outputs": [],
   "source": [
    "def work(features, target, r_state, i):\n",
    "    features_train, features_valid, target_train, target_valid = train_test_split(\n",
    "    features, target, test_size=0.25, random_state=r_state)\n",
    "    model = LinearRegression()\n",
    "    model.fit(features_train, target_train)\n",
    "    predicted_valid = model.predict(features_valid)\n",
    "    mse = mean_squared_error(target_valid, predicted_valid)\n",
    "    print('Результаты по региону ', i, ':')\n",
    "    print(\"RMSE =\", mse ** 0.5)\n",
    "    print(\"Средний запас сырья =\", predicted_valid.mean())\n",
    "    print(\"------------------------\")\n",
    "    return (predicted_valid, target_valid)#выгружаем предсказанные и целевые\n",
    "                                          #значения для валидационной выборки"
   ]
  },
  {
   "cell_type": "code",
   "execution_count": 13,
   "metadata": {},
   "outputs": [
    {
     "name": "stdout",
     "output_type": "stream",
     "text": [
      "Результаты по региону  1 :\n",
      "RMSE = 37.80046993478272\n",
      "Средний запас сырья = 92.49286560032228\n",
      "------------------------\n",
      "Результаты по региону  2 :\n",
      "RMSE = 0.890493320627005\n",
      "Средний запас сырья = 69.03055429593262\n",
      "------------------------\n",
      "Результаты по региону  3 :\n",
      "RMSE = 39.98039278339241\n",
      "Средний запас сырья = 94.84835708988288\n",
      "------------------------\n"
     ]
    }
   ],
   "source": [
    "predict_0, target_0 = work(df_0_features, df_0_target, r_state, 1)\n",
    "predict_1, target_1 = work(df_1_features, df_1_target, r_state, 2)\n",
    "predict_2, target_2 = work(df_2_features, df_2_target, r_state, 3)"
   ]
  },
  {
   "cell_type": "markdown",
   "metadata": {},
   "source": [
    "### Вывод\n",
    "По результатам данного шага мы видим, что линейная регрессия имеет высокую среднеквадратичную ошибку для первого и третьего региона, это надо учитывать в дальнейших выводах."
   ]
  },
  {
   "cell_type": "markdown",
   "metadata": {},
   "source": [
    "<a id='Part_3'></a>\n",
    "# 3. Подготовка к расчёту прибыли\n",
    "Заведем константы для расчета прибыли и расчитаем достаточный объём сырья для безубыточной разработки региона"
   ]
  },
  {
   "cell_type": "code",
   "execution_count": 14,
   "metadata": {},
   "outputs": [],
   "source": [
    "BUDGET = 10e9\n",
    "BARREL_COST = 450\n",
    "PROD_COST = BARREL_COST * 1000\n",
    "N_DRILLS = 200"
   ]
  },
  {
   "cell_type": "code",
   "execution_count": 15,
   "metadata": {
    "scrolled": true
   },
   "outputs": [
    {
     "data": {
      "text/plain": [
       "111.11111111111111"
      ]
     },
     "execution_count": 15,
     "metadata": {},
     "output_type": "execute_result"
    }
   ],
   "source": [
    "profit_limit = BUDGET / N_DRILLS / BARREL_COST / 1000\n",
    "profit_limit"
   ]
  },
  {
   "cell_type": "code",
   "execution_count": 16,
   "metadata": {},
   "outputs": [
    {
     "name": "stdout",
     "output_type": "stream",
     "text": [
      "-18.61824551078884\n",
      "\n",
      "-42.0805568151785\n",
      "\n",
      "-16.262754021228233\n"
     ]
    }
   ],
   "source": [
    "print(predict_0.mean() - profit_limit)\n",
    "print()\n",
    "print(predict_1.mean() - profit_limit)\n",
    "print()\n",
    "print(predict_2.mean() - profit_limit)"
   ]
  },
  {
   "cell_type": "markdown",
   "metadata": {},
   "source": [
    "### Вывод\n",
    "Для безубыточной разработки региона необходимо получать 111 тыс. баррелей нефти, как видим с цифр выше, в среднем ни один регион не может обеспечить безубыточность."
   ]
  },
  {
   "cell_type": "markdown",
   "metadata": {},
   "source": [
    "<a id='Part_4'></a>\n",
    "# 4. Расчёт прибыли и рисков \n",
    "Напишем функцию которая считает прибыль по 200 лучшим вышкам. "
   ]
  },
  {
   "cell_type": "code",
   "execution_count": 17,
   "metadata": {},
   "outputs": [],
   "source": [
    "def revenue(predict, target):\n",
    "    best_drills_index = pd.Series(predict).sort_values(ascending=False)[:200].index #находим индексы 200 лучших вышек среди предсказаний\n",
    "    income = target.reset_index(drop=True)[best_drills_index].sum() * PROD_COST #находим сумму истинных значения вышек по индексам от предсказаний \n",
    "                                                                                #и умножаем на стоимость продукта\n",
    "    return income - BUDGET # считаем прибыль"
   ]
  },
  {
   "cell_type": "markdown",
   "metadata": {},
   "source": [
    "Рассчитаем максимальную прибыль с каждого региона."
   ]
  },
  {
   "cell_type": "code",
   "execution_count": 18,
   "metadata": {},
   "outputs": [
    {
     "data": {
      "text/plain": [
       "3491186901.763096"
      ]
     },
     "execution_count": 18,
     "metadata": {},
     "output_type": "execute_result"
    }
   ],
   "source": [
    "revenue(predict_0, target_0)"
   ]
  },
  {
   "cell_type": "code",
   "execution_count": 19,
   "metadata": {},
   "outputs": [
    {
     "data": {
      "text/plain": [
       "2415086696.681511"
      ]
     },
     "execution_count": 19,
     "metadata": {},
     "output_type": "execute_result"
    }
   ],
   "source": [
    "revenue(predict_1, target_1)"
   ]
  },
  {
   "cell_type": "code",
   "execution_count": 20,
   "metadata": {},
   "outputs": [
    {
     "data": {
      "text/plain": [
       "2405061690.317089"
      ]
     },
     "execution_count": 20,
     "metadata": {},
     "output_type": "execute_result"
    }
   ],
   "source": [
    "revenue(predict_2, target_2)"
   ]
  },
  {
   "cell_type": "markdown",
   "metadata": {},
   "source": [
    "Применяя технику Bootstrap с 1000 выборок, найдем среднюю прибыль, 95%-й доверительный интервал и риск убытков для каждого региона."
   ]
  },
  {
   "cell_type": "code",
   "execution_count": 21,
   "metadata": {},
   "outputs": [],
   "source": [
    "state = np.random.RandomState(r_state)\n",
    "def bootstrap(predict, target):\n",
    "    values = []\n",
    "    for i in range(1000):\n",
    "        target_subsample = target.reset_index(drop=True).sample(n = 500,\n",
    "                                                                replace=True, random_state = state)\n",
    "        predict_subsample = predict[target_subsample.index]\n",
    "    \n",
    "        values.append(revenue(predict_subsample, target_subsample))\n",
    "\n",
    "    values = pd.Series(values)\n",
    "    confidence_interval = (values.quantile(0.025), values.quantile(0.975))\n",
    "    loss = (values < 0).sum() / 10\n",
    "    print(\"Средняя прибыль: \", values.mean())\n",
    "    print(\"Доверительный интервал: \", confidence_interval)\n",
    "    print(\"Риск убытков: \", loss, \"%\")"
   ]
  },
  {
   "cell_type": "code",
   "execution_count": 22,
   "metadata": {},
   "outputs": [
    {
     "name": "stdout",
     "output_type": "stream",
     "text": [
      "Средняя прибыль:  484679223.5403135\n",
      "Доверительный интервал:  (-5476874.350352755, 984467700.7303221)\n",
      "Риск убытков:  2.7 %\n"
     ]
    }
   ],
   "source": [
    "bootstrap(predict_0, target_0)"
   ]
  },
  {
   "cell_type": "code",
   "execution_count": 23,
   "metadata": {},
   "outputs": [
    {
     "name": "stdout",
     "output_type": "stream",
     "text": [
      "Средняя прибыль:  449277950.53947204\n",
      "Доверительный интервал:  (30327988.767628387, 847277702.3099976)\n",
      "Риск убытков:  1.4 %\n"
     ]
    }
   ],
   "source": [
    "bootstrap(predict_1, target_1)"
   ]
  },
  {
   "cell_type": "code",
   "execution_count": 24,
   "metadata": {
    "scrolled": false
   },
   "outputs": [
    {
     "name": "stdout",
     "output_type": "stream",
     "text": [
      "Средняя прибыль:  364219602.3450254\n",
      "Доверительный интервал:  (-122525091.00040863, 857751530.9950156)\n",
      "Риск убытков:  7.2 %\n"
     ]
    }
   ],
   "source": [
    "bootstrap(predict_2, target_2)"
   ]
  },
  {
   "cell_type": "markdown",
   "metadata": {},
   "source": [
    "### Вывод\n",
    "Средняя прибыль оказалась максимальной у первого региона, затем идет второй и третий.\n",
    "Первый и второй регион имеют отрицательные величины в доверительном интервале, соответственно у них риск убытка выше.\n",
    "Но учитывая полученные оценки по среднеквадратичной ошибке, то можно сделать вывод, что лучшим регионом для разработки будет второй, поскольку у него самая низкая среднеквадратичная ошибка, самый низкий риск убытка и достаточно высокая прибыль. "
   ]
  }
 ],
 "metadata": {
  "kernelspec": {
   "display_name": "Python 3",
   "language": "python",
   "name": "python3"
  },
  "language_info": {
   "codemirror_mode": {
    "name": "ipython",
    "version": 3
   },
   "file_extension": ".py",
   "mimetype": "text/x-python",
   "name": "python",
   "nbconvert_exporter": "python",
   "pygments_lexer": "ipython3",
   "version": "3.7.6"
  }
 },
 "nbformat": 4,
 "nbformat_minor": 2
}
